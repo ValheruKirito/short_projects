{
 "cells": [
  {
   "cell_type": "code",
   "execution_count": 1,
   "metadata": {},
   "outputs": [],
   "source": [
    "import warnings\n",
    "\n",
    "import pandas as pd\n",
    "\n",
    "from editor.data_manipulation import load_train_val_test_set\n",
    "from editor.model_v3 import get_proba_from_input, vectorise_data, MODEL, FEATURE_LIST\n",
    "\n",
    "warnings.filterwarnings('ignore')\n",
    "\n",
    "_, _, test_X, *_ = load_train_val_test_set(model='v3')\n",
    "\n",
    "text_list = pd.read_csv('data/data.csv', usecols=['full_text'])"
   ]
  },
  {
   "cell_type": "code",
   "execution_count": 2,
   "metadata": {},
   "outputs": [
    {
     "name": "stdout",
     "output_type": "stream",
     "text": [
      "How do we know if an object is redshifted? I have some questions about redshift. I think that the first two hang on the last two, but feel free to point out anything you think I should know. \n",
      "How do we know if an object is actually redshifted, and that we aren't just seeing the regular spectrum of the star?\n",
      "How can we tell the extent to which a star is redshifted? \n",
      "Do astronomers have a full baseline spectrum that they compare the measured spectrum against? Or do they just use the hydrogen spectrum since all stars are mostly hydrogen? \n",
      "\n"
     ]
    },
    {
     "name": "stderr",
     "output_type": "stream",
     "text": [
      "100%|██████████| 1/1 [00:00<00:00, 16.13it/s]"
     ]
    },
    {
     "name": "stdout",
     "output_type": "stream",
     "text": [
      "Overall score is 45.766.\n",
      "Flesch reading ease score is 93.089 – 5th grader could read this\n",
      "\n",
      "increase frequency of adpositions\n",
      "decrease frequency of auxiliary verbs\n",
      "decrease frequency of numerals\n",
      "decrease frequency of pronouns\n",
      "increase frequency of proper nouns\n",
      "increase frequency of punctuations\n",
      "decrease frequency of verbs\n",
      "\n"
     ]
    },
    {
     "name": "stderr",
     "output_type": "stream",
     "text": [
      "\n"
     ]
    }
   ],
   "source": [
    "from editor.get_recomendations import get_recommendation_report\n",
    "sample = test_X.sample(1)\n",
    "text = text_list.loc[sample.index[0], 'full_text']\n",
    "print(text)\n",
    "\n",
    "recom = get_recommendation_report(text)\n",
    "print(recom)"
   ]
  },
  {
   "cell_type": "code",
   "execution_count": 3,
   "metadata": {},
   "outputs": [
    {
     "name": "stderr",
     "output_type": "stream",
     "text": [
      "100%|██████████| 1/1 [00:00<00:00, 34.46it/s]\n"
     ]
    },
    {
     "name": "stdout",
     "output_type": "stream",
     "text": [
      "Overall score is 44.105.\n",
      "Flesch reading ease score is 78.246 – 7th grader could read this\n",
      "\n",
      "decrease positivity of emotional sentiment\n",
      "\n"
     ]
    }
   ],
   "source": [
    "text = '''\n",
    "I'd like to learn more about ML, specifically how to build ML products.\n",
    "When I attempt to build such products, I always face the same challenge: \n",
    "how do you go beyond a model?\n",
    "What are the best practices to use a model in a concrete application?\n",
    "Are there any good product focused resources? \n",
    "Would you be able to recommend educational books?\n",
    "I am specially interested in implementation of machine learning algorithms within the\n",
    "frameworks of artificial intelligence solutions to everyday problems.\n",
    "'''\n",
    "\n",
    "print(get_recommendation_report(text))"
   ]
  }
 ],
 "metadata": {
  "kernelspec": {
   "display_name": "base",
   "language": "python",
   "name": "python3"
  },
  "language_info": {
   "codemirror_mode": {
    "name": "ipython",
    "version": 3
   },
   "file_extension": ".py",
   "mimetype": "text/x-python",
   "name": "python",
   "nbconvert_exporter": "python",
   "pygments_lexer": "ipython3",
   "version": "3.11.5"
  }
 },
 "nbformat": 4,
 "nbformat_minor": 2
}
